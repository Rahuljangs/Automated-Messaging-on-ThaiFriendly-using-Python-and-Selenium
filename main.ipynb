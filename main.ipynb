{
 "cells": [
  {
   "cell_type": "code",
   "execution_count": 201,
   "id": "7fb9e5d4",
   "metadata": {},
   "outputs": [],
   "source": [
    "\n",
    "#Block 1\n",
    "import time\n",
    "from selenium import webdriver\n",
    "from selenium.webdriver.common.by import By\n",
    "from selenium.webdriver.common.action_chains import ActionChains\n",
    "from selenium.webdriver.common.keys import Keys\n",
    "from selenium import webdriver\n",
    "\n",
    "chrome_options = webdriver.ChromeOptions()\n",
    "\n",
    "# Specify the path to your existing Chrome profile\n",
    "chrome_options.add_argument(\"user-data-dir=C:/Users/KIRA/AppData/Local/Google/Chrome/User Data/Default\")\n",
    "\n",
    "#chrome driver to access chrome broswer\n",
    "driver = webdriver.Chrome(options=chrome_options)\n",
    "\n",
    "#directing to the link\n",
    "driver.get(\"https://www.thaifriendly.com/browse.php?\")\n",
    "message=\"How are you? Do you have time today? Add me “choratil” on LINE. You do ass?\""
   ]
  },
  {
   "cell_type": "code",
   "execution_count": 202,
   "id": "d3b8d2da",
   "metadata": {},
   "outputs": [],
   "source": [
    "#Block 2\n",
    "pages=1\n",
    "flag=0\n",
    "all_links=[]\n",
    "while pages>0: \n",
    "    pages-=1\n",
    "    try:\n",
    "        search_results_element = driver.find_element(By.ID, \"searchresults\")\n",
    "\n",
    "        # Find all anchor elements within the search results element\n",
    "        links = search_results_element.find_elements(By.TAG_NAME, \"a\")\n",
    "\n",
    "        # Extract href attribute from each link and append\n",
    "        \n",
    "        for link in links:\n",
    "            # Get the href attribute of the link\n",
    "            href = link.get_attribute(\"href\")\n",
    "            all_links.append(href)\n",
    "\n",
    "        next_button = driver.find_element(By.CLASS_NAME, \"page-link.next\")\n",
    "        next_button.click()\n",
    "        time.sleep(2)\n",
    "\n",
    "    except:\n",
    "        break\n"
   ]
  },
  {
   "cell_type": "code",
   "execution_count": 182,
   "id": "c64c98ba",
   "metadata": {},
   "outputs": [
    {
     "name": "stdout",
     "output_type": "stream",
     "text": [
      "List saved to existing.csv\n"
     ]
    }
   ],
   "source": [
    "#Block 3\n",
    "import csv\n",
    "csv_file_path = 'All_profiles.csv'\n",
    "\n",
    "# Open the CSV file in write mode\n",
    "with open(csv_file_path, mode='w', newline='') as file:\n",
    "    writer = csv.writer(file)\n",
    "    \n",
    "    # Write each element of the list as a row in]\\ the CSV file\n",
    "    for item in all_links:\n",
    "        writer.writerow([item])\n",
    "\n",
    "print(\"List saved to\", csv_file_path)"
   ]
  },
  {
   "cell_type": "code",
   "execution_count": 204,
   "id": "95e46b08",
   "metadata": {},
   "outputs": [
    {
     "data": {
      "text/plain": [
       "5101"
      ]
     },
     "execution_count": 204,
     "metadata": {},
     "output_type": "execute_result"
    }
   ],
   "source": [
    "#Block 4\n",
    "existing_profile = []\n",
    "\n",
    "# Path to the CSV file\n",
    "csv_file_path = 'Existing_profiles.csv'\n",
    "\n",
    "# Open the CSV file and read its contents into a list\n",
    "with open(csv_file_path, mode='r', newline='') as file:\n",
    "    reader = csv.reader(file)\n",
    "    \n",
    "    # Iterate over each row in the CSV file and append it to the data list\n",
    "    for row in reader:\n",
    "        existing_profile.append(row)\n",
    "\n",
    "# Display the data list\n",
    "len(existing_profile)"
   ]
  },
  {
   "cell_type": "code",
   "execution_count": 205,
   "id": "05aa3949",
   "metadata": {},
   "outputs": [
    {
     "name": "stdout",
     "output_type": "stream",
     "text": [
      "1\n",
      "2\n"
     ]
    }
   ],
   "source": [
    "#Block 5\n",
    "passed_links=[]    #keeping a check of all the sent message profiles\n",
    "cnt=0\n",
    "flag=0\n",
    "for link in all_links:\n",
    "    # parsing through all the profile and checking for pre Existing profile\n",
    "    if link not in existing_profile:\n",
    "        try:\n",
    "            href = link\n",
    "            \n",
    "            # Open the link in a new tab\n",
    "            driver.execute_script(\"window.open('\" + href + \"', '_blank')\")\n",
    "            time.sleep(3)  # Wait for 3 seconds\n",
    "            driver.switch_to.window(driver.window_handles[-1])\n",
    "            time.sleep(1)  # Wait for 1 seconds\n",
    "\n",
    "            passed_links.append(link)   # appending the profile link to keep a check \n",
    "\n",
    "            profilearea_div = driver.find_element(By.ID, \"profilearea\")            # checking for last active\n",
    "            temp=profilearea_div.text.split('\\n')\n",
    "            for index, item in enumerate(temp):\n",
    "                # Check for \"Last Active\" \n",
    "                if item == \"Last Active\":\n",
    "                    # Check if it's over a month or not\n",
    "                    if \"month\" in temp[index + 1]:\n",
    "                        flag=1\n",
    "                        break\n",
    "\n",
    "            text_area = driver.find_element(By.ID, \"messagecontent\")              #looking for message box\n",
    "            text_area.click()\n",
    "            text_area.send_keys(message)                                            #typing the message \n",
    "            time.sleep(0.5)\n",
    "            button = driver.find_element(By.ID, \"smbutton\")                         #sending the message \n",
    "            button.click()\n",
    "            time.sleep(0.5)\n",
    "\n",
    "            driver.close()\n",
    "            driver.switch_to.window(driver.window_handles[0])                       #closing the current window\n",
    "            time.sleep(0.8)\n",
    "            cnt+=1\n",
    "            print(cnt)\n",
    "            #same process will be repeated for all the profile links that has been stored \n",
    "\n",
    "        except:\n",
    "            if flag==1:   #Will exit if Last ative found to be in months\n",
    "                break\n",
    "        if flag==1:         #Will exit if Last ative found to be in months\n",
    "            break"
   ]
  },
  {
   "cell_type": "code",
   "execution_count": 173,
   "id": "25b61145",
   "metadata": {},
   "outputs": [
    {
     "name": "stdout",
     "output_type": "stream",
     "text": [
      "List saved to passed_links_3.csv\n"
     ]
    }
   ],
   "source": [
    "#Block 6\n",
    "import csv\n",
    "\n",
    "#Adding all the passed profiles back to existing profiles\n",
    "for i in passed_links:\n",
    "    existing_profile.append(i)\n",
    "\n",
    "csv_file_path = 'Existing_profiles.csv'\n",
    "\n",
    "# Open the CSV file in write mode\n",
    "with open(csv_file_path, mode='w', newline='') as file:\n",
    "    writer = csv.writer(file)\n",
    "    \n",
    "    # Write each element of the list as a row in]\\ the CSV file\n",
    "    for item in existing_profile:\n",
    "        writer.writerow([item])\n",
    "\n",
    "print(\"List saved to\", csv_file_path)"
   ]
  }
 ],
 "metadata": {
  "kernelspec": {
   "display_name": "Python 3 (ipykernel)",
   "language": "python",
   "name": "python3"
  },
  "language_info": {
   "codemirror_mode": {
    "name": "ipython",
    "version": 3
   },
   "file_extension": ".py",
   "mimetype": "text/x-python",
   "name": "python",
   "nbconvert_exporter": "python",
   "pygments_lexer": "ipython3",
   "version": "3.11.5"
  }
 },
 "nbformat": 4,
 "nbformat_minor": 5
}
